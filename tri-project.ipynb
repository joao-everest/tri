{
 "cells": [
  {
   "cell_type": "markdown",
   "id": "318bf4c1",
   "metadata": {},
   "source": [
    "# Triproject\n",
    "\n",
    "Analyzing data from triathlon preparation"
   ]
  },
  {
   "cell_type": "code",
   "execution_count": 36,
   "id": "3bb215a3",
   "metadata": {},
   "outputs": [],
   "source": [
    "#Importing pandas\n",
    "import pandas as pd\n",
    "import matplotlib.pyplot as plt"
   ]
  },
  {
   "cell_type": "code",
   "execution_count": 41,
   "id": "8c88bb16",
   "metadata": {},
   "outputs": [
    {
     "name": "stderr",
     "output_type": "stream",
     "text": [
      "/Users/JoaoMoraisCosta/opt/anaconda3/lib/python3.8/site-packages/openpyxl/worksheet/_reader.py:312: UserWarning: Unknown extension is not supported and will be removed\n",
      "  warn(msg)\n"
     ]
    }
   ],
   "source": [
    "# Importing csv file\n",
    "    \n",
    "base = pd.read_excel('db2.xlsx')\n"
   ]
  },
  {
   "cell_type": "markdown",
   "id": "ee246720",
   "metadata": {},
   "source": [
    "### Exploratory data analysis"
   ]
  },
  {
   "cell_type": "code",
   "execution_count": 44,
   "id": "0228ff5b",
   "metadata": {},
   "outputs": [
    {
     "name": "stdout",
     "output_type": "stream",
     "text": [
      "        data modalidade     tempo    km  km/h  m/km   b/c  m/500 swolf  \\\n",
      "0 2016-10-06    Natação  00:18:05  0.68   2.3   NaN  14.0  13.15    39   \n",
      "1 2016-10-09    Corrida  00:37:51   6.5  10.3  5.49   NaN    NaN   NaN   \n",
      "2 2016-10-09    Natação  00:29:19   1.1   2.3   NaN  15.0    NaN    40   \n",
      "3 2016-10-11    Corrida  01:06:21    10   9.0  6.38   NaN    NaN   NaN   \n",
      "4 2016-10-13    Corrida  00:27:14     5  11.0  5.26   NaN    NaN   NaN   \n",
      "\n",
      "   terreno  altimetria    cal  fadiga  temperatura tipo treino  sozinho prova  \n",
      "0  Piscina         NaN  164.0     1.0          NaN    continuo  Sozinho     n  \n",
      "1    Misto        85.0  482.0     1.0          NaN    continuo  Sozinho     n  \n",
      "2  Piscina         NaN  269.0     2.0          NaN    continuo  Sozinho     n  \n",
      "3  Estrada        75.0  765.0     2.0          NaN    continuo  Sozinho     n  \n",
      "4  Estrada        48.0  364.0     2.0          NaN    continuo  Sozinho     n  \n"
     ]
    }
   ],
   "source": [
    "# Basic info\n",
    "\n",
    "print(base.head())  # An fast overview of the database\n"
   ]
  },
  {
   "cell_type": "code",
   "execution_count": 46,
   "id": "4cb4ae06",
   "metadata": {},
   "outputs": [
    {
     "name": "stdout",
     "output_type": "stream",
     "text": [
      "<class 'pandas.core.frame.DataFrame'>\n",
      "RangeIndex: 163 entries, 0 to 162\n",
      "Data columns (total 17 columns):\n",
      " #   Column       Non-Null Count  Dtype         \n",
      "---  ------       --------------  -----         \n",
      " 0   data         163 non-null    datetime64[ns]\n",
      " 1   modalidade   163 non-null    object        \n",
      " 2   tempo        163 non-null    object        \n",
      " 3   km           156 non-null    object        \n",
      " 4   km/h         124 non-null    float64       \n",
      " 5   m/km         75 non-null     float64       \n",
      " 6   b/c          11 non-null     float64       \n",
      " 7   m/500        10 non-null     object        \n",
      " 8   swolf        11 non-null     object        \n",
      " 9   terreno      162 non-null    object        \n",
      " 10  altimetria   96 non-null     float64       \n",
      " 11  cal          135 non-null    float64       \n",
      " 12  fadiga       162 non-null    float64       \n",
      " 13  temperatura  135 non-null    float64       \n",
      " 14  tipo treino  163 non-null    object        \n",
      " 15  sozinho      162 non-null    object        \n",
      " 16  prova        162 non-null    object        \n",
      "dtypes: datetime64[ns](1), float64(7), object(9)\n",
      "memory usage: 21.8+ KB\n",
      "None\n"
     ]
    }
   ],
   "source": [
    "print(base.info())  # Basic info on the dataframe - about "
   ]
  },
  {
   "cell_type": "code",
   "execution_count": 54,
   "id": "655658f0",
   "metadata": {},
   "outputs": [
    {
     "name": "stdout",
     "output_type": "stream",
     "text": [
      "count         163\n",
      "unique          6\n",
      "top       Corrida\n",
      "freq           75\n",
      "Name: modalidade, dtype: object\n"
     ]
    }
   ],
   "source": [
    "# Basic statistical description\n",
    "\n",
    "print(base[\"modalidade\"].describe())"
   ]
  },
  {
   "cell_type": "code",
   "execution_count": null,
   "id": "9760fedb",
   "metadata": {},
   "outputs": [],
   "source": [
    "print(type(base)) # Check the type of object "
   ]
  },
  {
   "cell_type": "code",
   "execution_count": 16,
   "id": "525bafba",
   "metadata": {},
   "outputs": [
    {
     "name": "stdout",
     "output_type": "stream",
     "text": [
      "(163, 17)\n"
     ]
    }
   ],
   "source": [
    "print(base.shape) # Check the shape of the database -> 17 columns and 163 rows"
   ]
  },
  {
   "cell_type": "code",
   "execution_count": 42,
   "id": "feee0fdf",
   "metadata": {},
   "outputs": [
    {
     "name": "stdout",
     "output_type": "stream",
     "text": [
      "Index(['data', 'modalidade', 'tempo', 'km', 'km/h', 'm/km', 'b/c', 'm/500',\n",
      "       'swolf', 'terreno', 'altimetria', 'cal', 'fadiga', 'temperatura',\n",
      "       'tipo treino', 'sozinho', 'prova'],\n",
      "      dtype='object')\n"
     ]
    }
   ],
   "source": [
    "# Check columns names\n",
    "\n",
    "base_col = base.columns\n",
    "print(base_col)"
   ]
  },
  {
   "cell_type": "code",
   "execution_count": 38,
   "id": "be316df3",
   "metadata": {},
   "outputs": [
    {
     "data": {
      "image/png": "[encoded data removed]",
      "text/plain": [
       "<Figure size 432x288 with 1 Axes>"
      ]
     },
     "metadata": {
      "needs_background": "light"
     },
     "output_type": "display_data"
    }
   ],
   "source": [
    "base[\"modalidade\"].hist()\n",
    "plt.show()"
   ]
  },
  {
   "cell_type": "code",
   "execution_count": 39,
   "id": "e6b20bba",
   "metadata": {},
   "outputs": [
    {
     "name": "stdout",
     "output_type": "stream",
     "text": [
      "0      Natação\n",
      "1      Corrida\n",
      "2      Natação\n",
      "3      Corrida\n",
      "4      Corrida\n",
      "        ...   \n",
      "158    Corrida\n",
      "159    Corrida\n",
      "160    Corrida\n",
      "161    Corrida\n",
      "162    Corrida\n",
      "Name: modalidade, Length: 163, dtype: object\n"
     ]
    }
   ],
   "source": [
    "print(base[\"modalidade\"])"
   ]
  },
  {
   "cell_type": "code",
   "execution_count": 30,
   "id": "5e124fdf",
   "metadata": {},
   "outputs": [
    {
     "name": "stdout",
     "output_type": "stream",
     "text": [
      "Empty DataFrame\n",
      "Columns: [data, modalidade, tempo, km, km/h, m/km, b/c, m/500, swolf, terreno, altimetria, cal, fadiga, temperatura, tipo treino, sozinho, prova]\n",
      "Index: []\n"
     ]
    }
   ],
   "source": [
    "# Subset in three differente tables: Ciclismo, Corrida, Piscina and Misto\n",
    "\n",
    "c_base = base.query('modalidade == \"bicileta\"', inplace = False)\n",
    "print(c_base.head())"
   ]
  }
 ],
 "metadata": {
  "kernelspec": {
   "display_name": "Python 3",
   "language": "python",
   "name": "python3"
  },
  "language_info": {
   "codemirror_mode": {
    "name": "ipython",
    "version": 3
   },
   "file_extension": ".py",
   "mimetype": "text/x-python",
   "name": "python",
   "nbconvert_exporter": "python",
   "pygments_lexer": "ipython3",
   "version": "3.8.8"
  }
 },
 "nbformat": 4,
 "nbformat_minor": 5
}
